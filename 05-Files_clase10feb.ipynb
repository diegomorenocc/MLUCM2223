{
  "cells": [
    {
      "cell_type": "markdown",
      "metadata": {
        "id": "CQc79B-fQYjT"
      },
      "source": [
        "\n",
        "# Ficheros"
      ]
    },
    {
      "cell_type": "code",
      "execution_count": 2,
      "metadata": {
        "id": "FM1IBebIQYjV",
        "outputId": "18696c56-36ef-49aa-fbce-afadd442b9fd",
        "colab": {
          "base_uri": "https://localhost:8080/"
        }
      },
      "outputs": [
        {
          "output_type": "stream",
          "name": "stdout",
          "text": [
            "Una caseta en la feria de El Puerto de Santa María y hombres enchaquetados. Entre ellos, uno. Está acompañado por otros, todos sentados en sillas de enea alrededor de una mesa redonda pintada de color verde. El hombre coge una servilleta y dibuja a bolígrafo, y comienza a preguntar a los demás, elevando la voz para doblegar el ruido. Quiere saber si lo que ha esbozado en celulosa puede ser realidad con materiales compuestos como la fibra de carbono: los que le acompañan son expertos. El hombre es el director de operaciones de Hyperloop TT. Se trata del origen de lo que se ha presentado días atrás y que ha dado la vuelta al mundo: la primera cápsula a tamaño real para el Hyperloop, donde la tecnología española, andaluza y gaditana ha jugado un papel fundamental para que el consorcio estadounidense Hyperloop TT destaque en la pugna por ser los primeros en poner a funcionar el tren que levita a 1.200 km/h. El sueño de Elon Musk más cerca de ser real.\n",
            "\n",
            "La quietud es absoluta, es de noche y está oscuro. Visitamos la fábrica de El Puerto de Santa María en la que duerme la Quintero One. La primera cápsula del mundo a tamaño real del hyperloop se ha construido en Cádiz, y ha costado dos millones de euros. Es un hito de la ingeniería que ha puesto a este lugar del sur en el mapa mundi. Airtificial es la empresa que ha obrado un milagro... o más bien dos: es una excelente noticia para una provincia que carga con la fama en lugar de cardar la lana.\n",
            "\n",
            "Se encienden las luces. Impresiona. A simple vista, la cápsula parece fría, pero es muy cálida al tacto. Está hecha con un compuesto creado en exclusiva, el HyperloppTTs VibraniumTM. Mide 32 metros de largo desde el morro a la cola. En su interior el espacio se reduce a la mitad: 15 metros. Pesa cinco toneladas. En transporte especial llegará a Toulouse (Francia) donde equiparán el interior, integrarán los imanes, los tubos... y se harán las pruebas dinámicas de la cápsula, las primeras con un máquina a escala real. Transportará entre 30 y 40 pasajeros, que viajarán a más de 1.200 kilómetros por hora, primero en Abu Dabi y luego en China, según los contratos ya firmados por la compañía norteamericana. ¿Y cómo circulará? Dentro de un tubo, como ideó Musk. Pero el sistema dinámico ha cambiado: la cápsula, según ha anunciado Hyperloop TT, circulará mediante levitación magnética pasiva, generada por la propia velocidad. En la parte inferior de la cápsula habrá unos imanes que generarán un campo magnético contrario al que generan unas bobinas instaladas en una vía.\n",
            "\n",
            "En parada, la máquina no levita y descansa sobre esa vía. El movimiento se generará, como lo hacen los coches eléctricos, gracias a unas baterías instaladas en la cápsula, que darán vida a unos motores lineales. Con el movimiento y con la velocidad los imanes inyectarán voltaje sobre las bobinas y harán que la Quintero One se eleve... y levite. Ocio y negocio no sólo no están reñidos: es un mix que funciona. El encuentro que dio origen a esta cápsula futurista tuvo lugar dentro de los actos que organiza cada año esta multinacional de origen andaluz, antes llamada Carbures y ahora Airtificial. Por descontado, en esa caseta sobre todo se habla de business. A ella acuden clientes y directivos de las empresas con las que trabajan, como Airbus o Boeing, para las que fabrican piezas de materiales compuestos como el carbono. Un material duro y resistente que en los aparatos supone un ahorro del 85% de consumo energético.\n",
            "\n",
            "«A partir de ahí empezamos a intercambiar con ellos correos electrónicos para concretar, y comenzamos a evaluar técnicamente el proyecto», explica Rafael Contreras, presidente y fundador de esta tecnológica española de ingeniería aeronáutica, automoción, obra civil, e inteligencia artificial, robótica colaborativa y estructuras compuestas sensorizadas. Por supuesto ellos también evaluaron la solvencia de la empresa norteamericana antes de aceptar definitivamente el encargo. «Teníamos que asegurarnos del puesto que ocupaba Hyperloop TT en la carrera del hyperloop», explica. Querían trabajar para un player one, un caballo ganador. Intuían que, construyendo la cápsula, desde España podían ser capaces de darle un impulso mundial.Lo siguiente fue el análisis real de los ingenieros. El diseño definitivo vino de Paul Priestman, un prestigioso diseñador industrial que encabeza el estudio internacional PriestmanGoode. Con su idea del Hyperloop TT se alzó en 2017 con el golden award de la London Design Award. Con el boceto final, desde España comenzaron a interactuar y a sugerir mejoras. El precioso dibujo encerraba un enigma geométrico: la zona de la cola es contraria a la cabeza. «El reto técnico fue fabricar ofreciendo estabilidad invertida», explica Javier Moreno, general manager de la división aeroespacial y de sistemas de una compañía que fabrica materiales compuestos... en piezas. «Para Airbus u otras compañías fabricamos piezas, y ellos las ensamblan. En este caso nosotros hemos fabricado las piezas y también las hemos montado». Siguiendo los estrictos estándares de seguridad exigidos en el sector. Contreras resume: «Como no sabíamos que era imposible, lo hicimos».Los ingenieros de Airtificial llegaron a un punto en el que dejaron de contar la cantidad de parámetros que calculaban con los potentes softwares especializados con los que trabajan. Han sido necesarias 21.000 horas de ingeniería aeronáutica y 5.000 horas para montar 82 paneles de fibra de carbono y 7.200 metros cuadrados de fibra. Todo ello va ensamblado con 75.000 remaches. Hay instalados 72 sensores, que detectarán e indicarán los cambios que afecten a la seguridad y también los que sirvan para mejorar la experiencia de usuario. «La sensórica fue una de nuestras sugerencias, aceptaron, y la incorporamos: podría decirse que, con ella, la cápsula tiene vida propia», subraya Rafael Contreras.\n",
            "\n",
            "El nombre, Quintero One, es en homenaje a uno de los fundadores de la plataforma de inversores tecnológicos californianos que alumbró Hyperloop TT: Andrew Quintero. Murió en 2014, en un fatal accidente en la playa de Waikiki.En la compañía están satisfechos. «Ha sido titánico». No hay descanso y tienen que seguir trabajando con Hyperloop TT. Ganaron el contrato internacional, por 2,8 millones de euros, frente a otras cuatro compañías para construir el prototipo del tubo sobre el que circulará. ¿La diferencia? Las cuatro presentaron estructuras de acero. La española, de composite: 700 metros, repartidos en 12 segmentos de largo por cuatro de diámetro y de un grosor de 32 milímetros. Dotado además con sensores inteligentes. En el siglo XX hubo una carrera, la espacial, entre Estados Unidos y Rusia. En el XXI se libra entre empresas. Cuando funcione el hyperloop se sabrá quién gana. Es un proyecto abierto, ideado por Elon Musk. En 2013 lo presentó e inmediatamente hizo el hardware libre para que lo desarrollara quien quisiera, o mejor dicho, quien pudiera económicamente. Regaló las 57 páginas de los White Papers que estudian todavía empresas y universidades. Cinco jóvenes ingenieros valencianos fueron seleccionados por Elon Musk y desarrollan ideas en Xpace, un laboratorio de ingeniería en EEUU que también trabaja en prototipos del hyperloop, fabricados por Tesla. Hoy tan sólo dos consorcios empresariales norteamericanos tienen la suficiente solvencia económica para llevarlo a cabo. Son Virgin Hyperloop One e Hyperloop TT. Con la cápsula, Airtificial ha impulsado a ésta última. «Aquí estamos». Por los plazos de entrega, los trabajadores de Airtificial en Jerez, donde se han construido los paneles y los de El Puerto de Santa María, donde se ha ensamblado, no han tenido vacaciones este verano. No les ha importado. «Hemos sido conscientes de la relevancia mundial de este encargo. Todos hemos sabido desde el minuto uno que este proyecto era brutal, un hito histórico de ingeniería y todos hemos dicho \"yo quiero formar parte de esto\"», ultima Contreras.\n"
          ]
        }
      ],
      "source": [
        "f = open(\"fichero.txt\")\n",
        "data = f.read() \n",
        "print(data)\n",
        "f.close()"
      ]
    },
    {
      "cell_type": "markdown",
      "metadata": {
        "id": "xyxRZ2keQYjW"
      },
      "source": [
        "## with\n",
        "\n",
        "También se puede trabajar con objetos de archivo utilizando la instrucción <code>with</code>. Está diseñado para proporcionar un manejo de la sintaxis y las excepciones mucho más limpio cuando se trabaja con código. Es una buena práctica usar la declaración <code>with</code> cuando corresponda."
      ]
    },
    {
      "cell_type": "code",
      "execution_count": 3,
      "metadata": {
        "collapsed": true,
        "id": "_Rl_05PKQYjX",
        "outputId": "42b97b32-d382-4068-fa5d-166e5ef7a762",
        "colab": {
          "base_uri": "https://localhost:8080/"
        }
      },
      "outputs": [
        {
          "output_type": "stream",
          "name": "stdout",
          "text": [
            "Una caseta en la feria de El Puerto de Santa María y hombres enchaquetados. Entre ellos, uno. Está acompañado por otros, todos sentados en sillas de enea alrededor de una mesa redonda pintada de color verde. El hombre coge una servilleta y dibuja a bolígrafo, y comienza a preguntar a los demás, elevando la voz para doblegar el ruido. Quiere saber si lo que ha esbozado en celulosa puede ser realidad con materiales compuestos como la fibra de carbono: los que le acompañan son expertos. El hombre es el director de operaciones de Hyperloop TT. Se trata del origen de lo que se ha presentado días atrás y que ha dado la vuelta al mundo: la primera cápsula a tamaño real para el Hyperloop, donde la tecnología española, andaluza y gaditana ha jugado un papel fundamental para que el consorcio estadounidense Hyperloop TT destaque en la pugna por ser los primeros en poner a funcionar el tren que levita a 1.200 km/h. El sueño de Elon Musk más cerca de ser real.\n",
            "\n",
            "\n",
            "\n"
          ]
        }
      ],
      "source": [
        "with open(\"fichero.txt\") as f:  \n",
        "    data = f.readline()\n",
        "    print(data)\n",
        "    data = f.readline()\n",
        "    print(data)\n",
        "#data = f.readline()\n",
        "#print(data)"
      ]
    },
    {
      "cell_type": "code",
      "execution_count": null,
      "metadata": {
        "collapsed": true,
        "id": "wW4umbW7QYjX"
      },
      "outputs": [],
      "source": [
        "# Reading all the file\n",
        "f = open(\"fichero.txt\")\n",
        "data = f.read()\n",
        "print(data)\n",
        "f.close()\n",
        "\n",
        "print(\"--------------------------------\")\n",
        "\n",
        "#Iterating across the file\n",
        "f = open(\"fichero.txt\")\n",
        "data = \"\"\n",
        "for line in f.readlines():\n",
        "    data += line\n",
        "    print(data)\n",
        "f.close()\n",
        "\n",
        "print(\"--------------------------------\")\n",
        "    \n",
        "# Or we can read only a chunk\n",
        "f = open(\"fichero.txt\")\n",
        "block = f.read(5)\n",
        "data = block\n",
        "while len(block) != 0:    \n",
        "    block = f.read(5)    \n",
        "    data += block\n",
        "    print(block)\n",
        "print(data)\n",
        "f.close()\n"
      ]
    },
    {
      "cell_type": "markdown",
      "metadata": {
        "id": "W7Y9tstlQYjY"
      },
      "source": [
        "<code>with</code> es realmente un *manejador de contexto*."
      ]
    },
    {
      "cell_type": "code",
      "execution_count": 5,
      "metadata": {
        "id": "JIrUwfIzQYjY",
        "outputId": "488fd408-b9f4-4a2b-f900-68eab0ac0b95",
        "colab": {
          "base_uri": "https://localhost:8080/"
        }
      },
      "outputs": [
        {
          "output_type": "stream",
          "name": "stdout",
          "text": [
            "Una caseta en la feria de El Puerto de Santa María y hombres enchaquetados. Entre ellos, uno. Está acompañado por otros, todos sentados en sillas de enea alrededor de una mesa redonda pintada de color verde. El hombre coge una servilleta y dibuja a bolígrafo, y comienza a preguntar a los demás, elevando la voz para doblegar el ruido. Quiere saber si lo que ha esbozado en celulosa puede ser realidad con materiales compuestos como la fibra de carbono: los que le acompañan son expertos. El hombre es el director de operaciones de Hyperloop TT. Se trata del origen de lo que se ha presentado días atrás y que ha dado la vuelta al mundo: la primera cápsula a tamaño real para el Hyperloop, donde la tecnología española, andaluza y gaditana ha jugado un papel fundamental para que el consorcio estadounidense Hyperloop TT destaque en la pugna por ser los primeros en poner a funcionar el tren que levita a 1.200 km/h. El sueño de Elon Musk más cerca de ser real.\n",
            "\n",
            "\n",
            "\n",
            "La quietud es absoluta, es de noche y está oscuro. Visitamos la fábrica de El Puerto de Santa María en la que duerme la Quintero One. La primera cápsula del mundo a tamaño real del hyperloop se ha construido en Cádiz, y ha costado dos millones de euros. Es un hito de la ingeniería que ha puesto a este lugar del sur en el mapa mundi. Airtificial es la empresa que ha obrado un milagro... o más bien dos: es una excelente noticia para una provincia que carga con la fama en lugar de cardar la lana.\n",
            "\n",
            "\n",
            "\n",
            "Se encienden las luces. Impresiona. A simple vista, la cápsula parece fría, pero es muy cálida al tacto. Está hecha con un compuesto creado en exclusiva, el HyperloppTTs VibraniumTM. Mide 32 metros de largo desde el morro a la cola. En su interior el espacio se reduce a la mitad: 15 metros. Pesa cinco toneladas. En transporte especial llegará a Toulouse (Francia) donde equiparán el interior, integrarán los imanes, los tubos... y se harán las pruebas dinámicas de la cápsula, las primeras con un máquina a escala real. Transportará entre 30 y 40 pasajeros, que viajarán a más de 1.200 kilómetros por hora, primero en Abu Dabi y luego en China, según los contratos ya firmados por la compañía norteamericana. ¿Y cómo circulará? Dentro de un tubo, como ideó Musk. Pero el sistema dinámico ha cambiado: la cápsula, según ha anunciado Hyperloop TT, circulará mediante levitación magnética pasiva, generada por la propia velocidad. En la parte inferior de la cápsula habrá unos imanes que generarán un campo magnético contrario al que generan unas bobinas instaladas en una vía.\n",
            "\n",
            "\n",
            "\n",
            "En parada, la máquina no levita y descansa sobre esa vía. El movimiento se generará, como lo hacen los coches eléctricos, gracias a unas baterías instaladas en la cápsula, que darán vida a unos motores lineales. Con el movimiento y con la velocidad los imanes inyectarán voltaje sobre las bobinas y harán que la Quintero One se eleve... y levite. Ocio y negocio no sólo no están reñidos: es un mix que funciona. El encuentro que dio origen a esta cápsula futurista tuvo lugar dentro de los actos que organiza cada año esta multinacional de origen andaluz, antes llamada Carbures y ahora Airtificial. Por descontado, en esa caseta sobre todo se habla de business. A ella acuden clientes y directivos de las empresas con las que trabajan, como Airbus o Boeing, para las que fabrican piezas de materiales compuestos como el carbono. Un material duro y resistente que en los aparatos supone un ahorro del 85% de consumo energético.\n",
            "\n",
            "\n",
            "\n",
            "«A partir de ahí empezamos a intercambiar con ellos correos electrónicos para concretar, y comenzamos a evaluar técnicamente el proyecto», explica Rafael Contreras, presidente y fundador de esta tecnológica española de ingeniería aeronáutica, automoción, obra civil, e inteligencia artificial, robótica colaborativa y estructuras compuestas sensorizadas. Por supuesto ellos también evaluaron la solvencia de la empresa norteamericana antes de aceptar definitivamente el encargo. «Teníamos que asegurarnos del puesto que ocupaba Hyperloop TT en la carrera del hyperloop», explica. Querían trabajar para un player one, un caballo ganador. Intuían que, construyendo la cápsula, desde España podían ser capaces de darle un impulso mundial.Lo siguiente fue el análisis real de los ingenieros. El diseño definitivo vino de Paul Priestman, un prestigioso diseñador industrial que encabeza el estudio internacional PriestmanGoode. Con su idea del Hyperloop TT se alzó en 2017 con el golden award de la London Design Award. Con el boceto final, desde España comenzaron a interactuar y a sugerir mejoras. El precioso dibujo encerraba un enigma geométrico: la zona de la cola es contraria a la cabeza. «El reto técnico fue fabricar ofreciendo estabilidad invertida», explica Javier Moreno, general manager de la división aeroespacial y de sistemas de una compañía que fabrica materiales compuestos... en piezas. «Para Airbus u otras compañías fabricamos piezas, y ellos las ensamblan. En este caso nosotros hemos fabricado las piezas y también las hemos montado». Siguiendo los estrictos estándares de seguridad exigidos en el sector. Contreras resume: «Como no sabíamos que era imposible, lo hicimos».Los ingenieros de Airtificial llegaron a un punto en el que dejaron de contar la cantidad de parámetros que calculaban con los potentes softwares especializados con los que trabajan. Han sido necesarias 21.000 horas de ingeniería aeronáutica y 5.000 horas para montar 82 paneles de fibra de carbono y 7.200 metros cuadrados de fibra. Todo ello va ensamblado con 75.000 remaches. Hay instalados 72 sensores, que detectarán e indicarán los cambios que afecten a la seguridad y también los que sirvan para mejorar la experiencia de usuario. «La sensórica fue una de nuestras sugerencias, aceptaron, y la incorporamos: podría decirse que, con ella, la cápsula tiene vida propia», subraya Rafael Contreras.\n",
            "\n",
            "\n",
            "\n",
            "El nombre, Quintero One, es en homenaje a uno de los fundadores de la plataforma de inversores tecnológicos californianos que alumbró Hyperloop TT: Andrew Quintero. Murió en 2014, en un fatal accidente en la playa de Waikiki.En la compañía están satisfechos. «Ha sido titánico». No hay descanso y tienen que seguir trabajando con Hyperloop TT. Ganaron el contrato internacional, por 2,8 millones de euros, frente a otras cuatro compañías para construir el prototipo del tubo sobre el que circulará. ¿La diferencia? Las cuatro presentaron estructuras de acero. La española, de composite: 700 metros, repartidos en 12 segmentos de largo por cuatro de diámetro y de un grosor de 32 milímetros. Dotado además con sensores inteligentes. En el siglo XX hubo una carrera, la espacial, entre Estados Unidos y Rusia. En el XXI se libra entre empresas. Cuando funcione el hyperloop se sabrá quién gana. Es un proyecto abierto, ideado por Elon Musk. En 2013 lo presentó e inmediatamente hizo el hardware libre para que lo desarrollara quien quisiera, o mejor dicho, quien pudiera económicamente. Regaló las 57 páginas de los White Papers que estudian todavía empresas y universidades. Cinco jóvenes ingenieros valencianos fueron seleccionados por Elon Musk y desarrollan ideas en Xpace, un laboratorio de ingeniería en EEUU que también trabaja en prototipos del hyperloop, fabricados por Tesla. Hoy tan sólo dos consorcios empresariales norteamericanos tienen la suficiente solvencia económica para llevarlo a cabo. Son Virgin Hyperloop One e Hyperloop TT. Con la cápsula, Airtificial ha impulsado a ésta última. «Aquí estamos». Por los plazos de entrega, los trabajadores de Airtificial en Jerez, donde se han construido los paneles y los de El Puerto de Santa María, donde se ha ensamblado, no han tenido vacaciones este verano. No les ha importado. «Hemos sido conscientes de la relevancia mundial de este encargo. Todos hemos sabido desde el minuto uno que este proyecto era brutal, un hito histórico de ingeniería y todos hemos dicho \"yo quiero formar parte de esto\"», ultima Contreras.\n",
            "\n"
          ]
        }
      ],
      "source": [
        "class controlled_execution:\n",
        "    \n",
        "    def __init__(self, filename):\n",
        "        self.filename = filename\n",
        "    \n",
        "    def __enter__(self):\n",
        "        f = open(self.filename)\n",
        "        return f\n",
        "    \n",
        "    def __exit__(self, type, value, traceback):\n",
        "        f.close()\n",
        "\n",
        "        \n",
        "with controlled_execution(\"fichero.txt\") as f:\n",
        "    while len(data) != 0:\n",
        "        data = f.readline()\n",
        "        print(data)\n"
      ]
    },
    {
      "cell_type": "markdown",
      "metadata": {
        "id": "yNktLrvUQYjY"
      },
      "source": [
        "## Manejo de ficheros y texto"
      ]
    },
    {
      "cell_type": "code",
      "execution_count": 6,
      "metadata": {
        "collapsed": true,
        "id": "CfGWZSlnQYjY",
        "outputId": "9b79757e-6df5-4947-a98d-9eb304052443",
        "colab": {
          "base_uri": "https://localhost:8080/"
        }
      },
      "outputs": [
        {
          "output_type": "stream",
          "name": "stdout",
          "text": [
            "{'luces', 'acompañan', 'reñidos', 'pudiera', 'rafael', 'materiales', 'duro', 'andrew', '¿la', 'supuesto', 'levita', 'interactuar', 'tecnológicos', 'esto\"', 'primera', 'resume', 'servilleta', 'pugna', 'caballo', 'le', 'las', 'inmediatamente', 'lugar', '2014', 'fama', 'rusia', 'dinámicas', 'preguntar', 'son', 'dabi', 'caso', 'estados', 'cómo', 'histórico', '7200', 'resistente', 'ahorro', 'cuatro', 'ensamblan', 'sillas', 'acompañado', '21000', 'plazos', 'dado', 'encerraba', 'sido', 'contreras', 'multinacional', 'estamos', 'esbozado', 'montado', 'softwares', 'se', 'kilómetros', 'todos', 'cuando', 'ideado', 'doblegar', 'hardware', 'cantidad', 'trabaja', 'invertida', 'intercambiar', 'ingenieros', 'quietud', 'levitación', '«para', 'compuesto', 'compañías', '«como', 'airbus', 'pesa', 'titánico', 'va', 'transporte', 'carga', 'importado', 'lana', 'robótica', 'correos', 'técnico', 'podría', 'excelente', 'realidad', '85%', 'este', '«la', '«hemos', 'enea', 'ahora', 'fría', 'de', 'sobre', 'fabricado', 'quien', 'eleve', 'tren', 'siguiendo', 'redonda', 'oscuro', 'instaladas', 'ellos', 'u', '15', 'baterías', 'estándares', 'contrato', 'caseta', 'clientes', 'design', 'pruebas', 'organiza', 'nuestras', 'hora', 'tuvo', 'remaches', 'inferior', 'experiencia', 'internacional', 'seguir', 'mundial', 'poner', 'comienza', 'donde', 'fundamental', 'coge', 'material', 'seleccionados', 'fabrica', 'acero', 'vía', 'cabeza', 'exclusiva', '700', 'white', 'definitivo', 'zona', 'cuadrados', 'estabilidad', 'hacen', '12', '\"yo', 'hombres', 'origen', '75000', 'eléctricos', 'colaborativa', 'circulará', 'real', 'contrario', 'murió', 'virgin', 'compañía', 'hyperloop', 'sólo', 'hoy', 'asegurarnos', 'enchaquetados', '30', 'construido', 'maría', 'esta', 'llamada', 'podían', 'generan', 'espacio', 'si', 'brutal', 'estrictos', '«ha', 'del', 'airtificial', 'ahí', 'división', 'desde', 'award', 'generará', 'andaluz', 'cardar', 'puesto', 'euros', 'sensorizadas', 'dicho', 'universidades', 'sugerencias', 'nombre', 'elon', 'tt', 'ingeniería', 'la', 'darán', 'puerto', 'todavía', 'ideó', 'imposible', 'desarrollara', 'precioso', 'mejorar', 'viajarán', 'vibraniumtm', 'sueño', 'directivos', 'siglo', 'metros', 'impresiona', 'generada', 'civil', 'pasiva', 'segmentos', 'bobinas', 'y', 'toneladas', 'luego', 'cambios', 'propia', 'regaló', 'bolígrafo', 'tecnológica', 'hizo', 'pero', 'española', 'sector', 'otros', 'hyperlopptts', 'diseño', 'puede', 'presentado', 'provincia', 'primeras', 'funciona', 'libra', 'industrial', 'creado', 'han', 'unidos', 'ganador', 'ideas', 'satisfechos', 'laboratorio', 'movimiento', 'feria', 'cola', 'a', 'grosor', 'automoción', 'millones', 'artificial', 'paneles', 'según', 'aeronáutica', 'aeroespacial', 'eeuu', 'final', 'ésta', 'general', 'moreno', 'inteligencia', 'aceptaron', 'empresariales', 'encienden', 'hicimoslos', 'sabrá', 'hubo', 'o', 'última', 'ello', 'quiere', 'vacaciones', 'sistema', 'playa', 'funcione', 'tenido', 'dio', 'vuelta', 'andaluza', '«a', 'idea', 'empezamos', 'ser', 'económica', 'concretar', 'que', 'carbono', 'absoluta', 'su', 'mundo', 'tubo', 'hecha', 'lo', 'darle', 'london', 'boeing', '¿y', 'jugado', 'presentaron', 'estadounidense', 'dibujo', 'estructuras', 'musk', 'velocidad', 'pasajeros', 'abu', 'desarrollan', 'costado', 'esa', 'contratos', 'quintero', 'aparatos', 'santa', 'verde', 'compuestos', 'proyecto', 'hemos', 'voltaje', 'km/h', 'actos', 'comenzamos', '82', 'es', 'fabricados', 'contraria', 'cabo', 'parece', 'como', 'intuían', 'empresa', 'mejor', 'magnético', 'alrededor', 'suficiente', 'mediante', 'prestigioso', 'quisiera', 'saber', 'dinámico', 'accidente', 'decirse', '57', 'al', 'parámetros', '«el', 'tiene', 'conscientes', 'más', 'relevancia', 'mesa', 'cápsula', 'afecten', 'lineales', 'potentes', 'milímetros', 'piezas', 'nosotros', 'sentados', 'construyendo', 'siguiente', 'gana', 'económicamente', 'encargo', 'negocio', 'jóvenes', 'contar', 'descanso', 'usuario', 'inyectarán', 'habrá', '72', 'aceptar', 'boceto', 'tacto', 'para', 'director', 'fue', 'geométrico', 'sirvan', 'abierto', 'harán', 'el', '«aquí', 'horas', 'ensamblado', 'papers', 'homenaje', 'noticia', '1200', 'impulso', 'año', 'norteamericanos', 'especial', 'priestman', 'ha', 'carrera', 'días', 'priestmangoode', 'en', 'les', 'uno', 'sistemas', 'cinco', 'montar', 'diseñador', 'carbures', 'noche', 'análisis', 'tecnología', 'cálida', 'equiparán', 'máquina', 'tan', 'empresas', 'integrarán', 'norteamericana', 'verano', 'operaciones', 'energético', 'tienen', 'ultima', '«teníamos', 'unas', 'exigidos', 'instalados', 'fabrican', 'morro', 'ganaron', 'duerme', 'electrónicos', 'mejoras', 'quiero', 'fábrica', 'acuden', 'golden', 'toulouse', 'coches', 'interior', 'trabajadores', 'supone', 'todo', 'cerca', 'destaque', 'dos', 'bien', 'obrado', 'un', 'enigma', 'atrás', 'compuestas', 'consumo', 'escala', 'levite', 'minuto', 'tesla', 'imanes', 'sensórica', 'sensores', 'ocio', 'capaces', 'unos', 'hombre', 'definitivamente', 'llegará', 'fibra', 'jerez', 'frente', 'solvencia', 'valencianos', 'entrega', 'elevando', 'vista', 'con', 'mix', 'mapa', 'manager', 'sabíamos', 'parada', 'celulosa', 'mitad', 'hito', 'sugerir', 'especializados', 'está', 'firmados', 'calculaban', 'descontado', 'tubos', 'trabajando', '32', 'llevarlo', 'entre', 'no', 'milagro', '2013', 'una', 'funcionar', 'anunciado', 'magnética', 'reto', 'antes', 'sabido', 'circulará?', 'china', 'waikikien', 'parte', 'voz', 'primero', 'construir', 'formar', 'simple', 'californianos', 'trabajar', 'presentó', '28', 'están', 'ya', 'ofreciendo', 'pintada', 'además', 'alumbró', '5000', 'libre', 'fundador', 'comenzaron', 'demás', 'xpace', 'largo', 'papel', 'plataforma', 'dotado', 'evaluaron', 'ruido', 'xxi', 'e', 'trata', 'fundadores', 'vida', 'también', 'diámetro', 'encuentro', '(francia)', 'business', 'estudian', 'dibuja', 'expertos', 'partir', 'alzó', 'fueron', 'prototipo', 'muy', 'llegaron', 'ella', 'campo', 'dentro', 'fabricar', 'color', 'punto', 'detectarán', 'fabricamos', 'consorcios', 'visitamos', 'incorporamos', 'inteligentes', 'javier', 'futurista', 'generarán', 'xx', 'otras', 'estudio', 'seguridad', 'gracias', 'sur', 'ocupaba', 'primeros', 'páginas', 'prototipos', 'fatal', 'consorcio', 'gaditana', 'tamaño', 'mide', 'necesarias', 'diferencia?', 'por', 'hay', 'composite', 'vino', 'los', 'espacial', 'indicarán', 'habla', 'reduce', 'one', 'mundi', 'técnicamente', '2017', 'descansa', 'cádiz', 'trabajan', 'paul', 'inversores', 'presidente', 'querían', 'dejaron', 'explica', 'repartidos', 'cambiado', 'player', 'encabeza', 'quién', 'obra', 'subraya', 'impulsado', 'transportará', 'motores', 'cada', 'españa', '40', 'evaluar', 'era', 'mundiallo'}\n"
          ]
        }
      ],
      "source": [
        "with open('fichero.txt','r') as f:\n",
        "    text = f.read()\n",
        "    \n",
        "text = \" \".join(text.split())\n",
        "text = text.lower().replace(\",\",\"\")\n",
        "text = text.replace(\".\",\"\")\n",
        "text = text.replace(\":\",\"\")\n",
        "text = text.replace(\"-\",\"\")\n",
        "text = text.replace(\"»\",\"\")\n",
        "\n",
        "words = text.split()\n",
        "words = set(words)\n",
        "\n",
        "print(words)\n"
      ]
    },
    {
      "cell_type": "code",
      "execution_count": null,
      "metadata": {
        "collapsed": true,
        "id": "eUUstSLLQYjZ"
      },
      "outputs": [],
      "source": []
    }
  ],
  "metadata": {
    "kernelspec": {
      "display_name": "Python 3",
      "language": "python",
      "name": "python3"
    },
    "language_info": {
      "codemirror_mode": {
        "name": "ipython",
        "version": 3
      },
      "file_extension": ".py",
      "mimetype": "text/x-python",
      "name": "python",
      "nbconvert_exporter": "python",
      "pygments_lexer": "ipython3",
      "version": "3.7.3"
    },
    "colab": {
      "name": "05-Files.ipynb",
      "provenance": []
    }
  },
  "nbformat": 4,
  "nbformat_minor": 0
}